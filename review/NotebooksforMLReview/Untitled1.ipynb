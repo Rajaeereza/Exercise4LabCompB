{
 "cells": [
  {
   "cell_type": "code",
   "execution_count": null,
   "id": "fb0feeb2",
   "metadata": {},
   "outputs": [],
   "source": [
    "import matplotlib.pyplot as plt\n",
    "import numpy as np\n",
    "\n",
    "# number of data\n",
    "N=4000\n",
    "# size of each sample\n",
    "L=2\n",
    "# box size\n",
    "B=100\n",
    "\n",
    "!mkdir DATA"
   ]
  },
  {
   "cell_type": "code",
   "execution_count": null,
   "id": "f6d8b5d2",
   "metadata": {},
   "outputs": [],
   "source": [
    "%run nonlinear_function.py\n",
    "\n",
    "TYPE=1\n",
    "\n",
    "# random seed for reproducibility\n",
    "np.random.seed(12345)\n",
    "print(np.random.randint(0,10),np.random.randint(0,10),np.random.randint(0,10))\n",
    "\n",
    "x,y = (np.random.random((N,2))-0.5)*B, np.zeros(N)\n",
    "for i in range(N):\n",
    "    # label data according to a nonlinear function \"f\"\n",
    "    y[i] = f(x[i],TYPE)\n",
    "        \n",
    "plt.figure(figsize = (8,8))\n",
    "plt.scatter(x[:,0],x[:,1],c=y)\n",
    "plt.show\n",
    "\n",
    "np.savetxt(filename(\"data\",TYPE),x)\n",
    "np.savetxt(filename(\"labels\",TYPE),y,fmt=\"%d\")"
   ]
  },
  {
   "cell_type": "code",
   "execution_count": null,
   "id": "5adee778",
   "metadata": {},
   "outputs": [],
   "source": [
    "import numpy as np\n",
    "from keras.models import Sequential\n",
    "from keras.layers import Dense, Dropout\n",
    "\n",
    "import matplotlib.pyplot as plt\n",
    "plt.rcParams['font.size']=14\n",
    "\n",
    "%run nonlinear_function.py\n",
    "\n",
    "#training data \n",
    "perc_train=0.8"
   ]
  },
  {
   "cell_type": "code",
   "execution_count": null,
   "id": "7689bf0b",
   "metadata": {},
   "outputs": [],
   "source": [
    "#keras work with numpy arrays: just use them from the start\n",
    "TYPE=1\n",
    "x= np.loadtxt(filename(\"data\",TYPE), delimiter=' ')\n",
    "y= np.loadtxt(filename(\"labels\",TYPE), delimiter=' ')\n",
    "N= len(x)\n",
    "\n",
    "# dim. of a sample\n",
    "L=len(x[0])\n",
    "print(L)\n",
    "\n",
    "for i in range(10):\n",
    "    print(x[i],y[i])\n",
    "    \n",
    "N_train= int(perc_train*N)\n",
    "print(f'data: {N}\\ntrain: {N_train}')\n",
    "\n",
    "plt.figure(figsize =(8,8))\n",
    "plt.scatter(x[:,0],x[:,1],c=y)\n",
    "plt.show"
   ]
  },
  {
   "cell_type": "code",
   "execution_count": null,
   "id": "86d13d82",
   "metadata": {},
   "outputs": [],
   "source": [
    "(x_train, y_train)=(x[0:N_train],y[0:N_train])\n",
    "(x_valid, y_valid)=(x[N_train:],y[N_train:])\n",
    "print(\"Train:\",len(x_train),\"\\t Validation:\",len(x_valid))"
   ]
  },
  {
   "cell_type": "code",
   "execution_count": null,
   "id": "e90913d4",
   "metadata": {},
   "outputs": [],
   "source": [
    "def Rescale(x):\n",
    "    #return (x-x.mean())/np.sqrt(x.var())\n",
    "    return x/50\n",
    "\n",
    "x_train = Rescale(x_train)\n",
    "x_valid = Rescale(x_valid)"
   ]
  },
  {
   "cell_type": "code",
   "execution_count": null,
   "id": "ccbd0532",
   "metadata": {},
   "outputs": [],
   "source": [
    "from sklearn.model_selection import GridSearchCV\n",
    "from keras.models import Sequential\n",
    "from keras.layers import Dense\n",
    "from keras.wrappers.scikit_learn import KerasClassifier"
   ]
  },
  {
   "cell_type": "code",
   "execution_count": null,
   "id": "2557ae1c",
   "metadata": {},
   "outputs": [],
   "source": [
    "def create_model(n_layers=2):\n",
    "    model = Sequential()\n",
    "    model.add(Dense(2, input_shape=(2,), activation='relu'))\n",
    "    for i in range(n_layers):\n",
    "            model.add(Dense(20, activation='relu'))\n",
    "            \n",
    "    model.add(Dropout(0.2))\n",
    "    model.add(Dense(1, activation='sigmoid'))\n",
    "    model.compile(loss='binary_crossentropy', optimizer='adam', metrics=['accuracy'])\n",
    "    return model\n",
    "\n",
    "\n",
    "model = KerasClassifier(build_fn=create_model, epochs=400, batch_size=50, verbose=0)\n",
    "# define the grid search parameters\n",
    "n_layers=[2,3,4,5]\n",
    "param_grid = dict(n_layers=n_layers)\n",
    "grid = GridSearchCV(estimator=model, param_grid=param_grid, n_jobs=-1, cv=3)\n",
    "grid_result = grid.fit(x_train, y_train)\n",
    "# summarize results\n",
    "print(\"Best: %f using %s\" % (grid_result.best_score_, grid_result.best_params_))\n",
    "means = grid_result.cv_results_['mean_test_score']\n",
    "stds = grid_result.cv_results_['std_test_score']\n",
    "params = grid_result.cv_results_['params']\n",
    "for mean, stdev, param in zip(means, stds, params):\n",
    "    print(\"%f (%f) with: %r\" % (mean, stdev, param))\n"
   ]
  },
  {
   "cell_type": "code",
   "execution_count": null,
   "id": "75f88259",
   "metadata": {},
   "outputs": [],
   "source": []
  }
 ],
 "metadata": {
  "kernelspec": {
   "display_name": "Python 3",
   "language": "python",
   "name": "python3"
  },
  "language_info": {
   "codemirror_mode": {
    "name": "ipython",
    "version": 3
   },
   "file_extension": ".py",
   "mimetype": "text/x-python",
   "name": "python",
   "nbconvert_exporter": "python",
   "pygments_lexer": "ipython3",
   "version": "3.8.8"
  }
 },
 "nbformat": 4,
 "nbformat_minor": 5
}
